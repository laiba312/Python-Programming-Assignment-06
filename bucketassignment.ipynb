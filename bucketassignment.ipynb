{
  "nbformat": 4,
  "nbformat_minor": 0,
  "metadata": {
    "colab": {
      "provenance": [],
      "authorship_tag": "ABX9TyP8endGnMBuALPbrJMSR1KE",
      "include_colab_link": true
    },
    "kernelspec": {
      "name": "python3",
      "display_name": "Python 3"
    },
    "language_info": {
      "name": "python"
    }
  },
  "cells": [
    {
      "cell_type": "markdown",
      "metadata": {
        "id": "view-in-github",
        "colab_type": "text"
      },
      "source": [
        "<a href=\"https://colab.research.google.com/github/laiba312/Python-Programming-Assignment-06/blob/main/bucketassignment.ipynb\" target=\"_parent\"><img src=\"https://colab.research.google.com/assets/colab-badge.svg\" alt=\"Open In Colab\"/></a>"
      ]
    },
    {
      "cell_type": "code",
      "execution_count": null,
      "metadata": {
        "colab": {
          "base_uri": "https://localhost:8080/"
        },
        "id": "C8iw95Gc7eiw",
        "outputId": "421a28ac-7471-4fc3-de85-0bc209b614e2"
      },
      "outputs": [
        {
          "output_type": "stream",
          "name": "stdout",
          "text": [
            "Water Bucket Puzzle: Try to get exactly 4L of water in one of the buckets!\n",
            "\n",
            "Bucket Status:\n",
            "8L Bucket: 0/8L\n",
            "5L Bucket: 0/5L\n",
            "3L Bucket: 0/3L\n",
            "\n"
          ]
        }
      ],
      "source": [
        "class Bucket:\n",
        "    def __init__(self, capacity: int):\n",
        "        self.capacity = capacity  # Maximum capacity of the bucket\n",
        "        self.current_water = 0     # Initially, the bucket is empty\n",
        "\n",
        "    def fill(self):\n",
        "        self.current_water = self.capacity\n",
        "        print(f\"Filled {self.capacity}L bucket with water.\")\n",
        "\n",
        "    def empty(self):\n",
        "        self.current_water = 0\n",
        "        print(f\"Emptied {self.capacity}L bucket.\")\n",
        "\n",
        "    def pour_into(self, other_bucket):\n",
        "        transfer_amount = min(self.current_water, other_bucket.capacity - other_bucket.current_water)\n",
        "        other_bucket.current_water += transfer_amount\n",
        "        self.current_water -= transfer_amount\n",
        "        print(f\"Poured {transfer_amount}L from {self.capacity}L bucket into {other_bucket.capacity}L bucket.\")\n",
        "\n",
        "    def __str__(self):\n",
        "        return f\"{self.current_water}/{self.capacity}L\"\n",
        "\n",
        "\n",
        "class WaterBucketPuzzle:\n",
        "    def __init__(self):\n",
        "        # Creating three buckets: 8L, 5L, and 3L\n",
        "        self.bucket_8l = Bucket(8)\n",
        "        self.bucket_5l = Bucket(5)\n",
        "        self.bucket_3l = Bucket(3)\n",
        "\n",
        "    def display_buckets(self):\n",
        "        print(\"\\nBucket Status:\")\n",
        "        print(f\"8L Bucket: {self.bucket_8l}\")\n",
        "        print(f\"5L Bucket: {self.bucket_5l}\")\n",
        "        print(f\"3L Bucket: {self.bucket_3l}\\n\")\n",
        "\n",
        "    def is_goal_achieved(self):\n",
        "        return (self.bucket_8l.current_water == 4 or\n",
        "                self.bucket_5l.current_water == 4 or\n",
        "                self.bucket_3l.current_water == 4)\n",
        "\n",
        "    def start(self):\n",
        "        print(\"Water Bucket Puzzle: Try to get exactly 4L of water in one of the buckets!\")\n",
        "        self.display_buckets()\n",
        "\n",
        "        while not self.is_goal_achieved():\n",
        "            action = input(\"Choose an action - (F)ill, (E)mpty, (P)our, or (Q)uit: \").lower()\n",
        "\n",
        "            if action == 'q':\n",
        "                print(\"Exiting the puzzle.\")\n",
        "                break\n",
        "            elif action == 'f':\n",
        "                bucket = self.select_bucket(\"fill\")\n",
        "                if bucket:\n",
        "                    bucket.fill()\n",
        "            elif action == 'e':\n",
        "                bucket = self.select_bucket(\"empty\")\n",
        "                if bucket:\n",
        "                    bucket.empty()\n",
        "            elif action == 'p':\n",
        "                from_bucket = self.select_bucket(\"pour from\")\n",
        "                to_bucket = self.select_bucket(\"pour into\")\n",
        "                if from_bucket and to_bucket:\n",
        "                    from_bucket.pour_into(to_bucket)\n",
        "\n",
        "            self.display_buckets()\n",
        "\n",
        "        if self.is_goal_achieved():\n",
        "            print(\"Congratulations! You've solved the puzzle and got exactly 4 liters of water!\")\n",
        "\n",
        "    def select_bucket(self, action_name: str):\n",
        "        choice = input(f\"Select a bucket to {action_name} (8, 5, 3, or QUIT): \").lower()\n",
        "        if choice == '8':\n",
        "            return self.bucket_8l\n",
        "        elif choice == '5':\n",
        "            return self.bucket_5l\n",
        "        elif choice == '3':\n",
        "            return self.bucket_3l\n",
        "        elif choice == 'quit':\n",
        "            return None\n",
        "        else:\n",
        "            print(\"Invalid choice. Try again.\")\n",
        "            return None\n",
        "\n",
        "\n",
        "# Run the puzzle\n",
        "if __name__ == \"__main__\":\n",
        "    puzzle = WaterBucketPuzzle()\n",
        "    puzzle.start()\n"
      ]
    }
  ]
}